{
 "cells": [
  {
   "cell_type": "code",
   "execution_count": 25,
   "outputs": [
    {
     "name": "stdout",
     "output_type": "stream",
     "text": [
      "\n",
      "Top 5 trigrams for filter 7:\n",
      "ovx Response: -4.06\n",
      "'vx Response: -3.92\n",
      "tvx Response: -3.71\n",
      "ovr Response: -3.67\n",
      "onx Response: -3.63\n",
      "\n",
      "Top 5 trigrams for filter 10:\n",
      "er' Response: -4.43\n",
      "es' Response: -4.42\n",
      "gr' Response: -4.12\n",
      "gs' Response: -4.10\n",
      "wr' Response: -4.10\n",
      "\n",
      "Top 5 trigrams for filter 0:\n",
      "t'i Response: -4.36\n",
      "t'. Response: -4.29\n",
      "tji Response: -4.08\n",
      "t'z Response: -4.05\n",
      "tj. Response: -4.01\n",
      "\n",
      "Top 5 trigrams for filter 9:\n",
      "vzo Response: -5.32\n",
      "zzo Response: -5.09\n",
      "-zo Response: -4.95\n",
      "bzo Response: -4.88\n",
      ".zo Response: -4.79\n",
      "\n",
      "Top 5 trigrams for filter 25:\n",
      "oxg Response: 3.81\n",
      "ovg Response: 3.74\n",
      "ohg Response: 3.66\n",
      "vyq Response: -3.55\n",
      "odg Response: 3.49\n"
     ]
    }
   ],
   "source": [
    "import torch\n",
    "import numpy as np\n",
    "from itertools import product\n",
    "import string\n",
    "\n",
    "model_path = \"ner_trained_model_window_size_30.pt\"\n",
    "model = torch.load(model_path, map_location=torch.device('cpu'), weights_only=False)\n",
    "\n",
    "filters = model.char_conv.weight.data.cpu().numpy()\n",
    "out_channels, in_channels, kernel_size = filters.shape\n",
    "\n",
    "filter_variances = np.var(filters, axis=(1,2))\n",
    "top_indices = np.argsort(filter_variances)[-5:][::-1]\n",
    "\n",
    "vocab_size = model.char_embeddings.weight.shape[0]\n",
    "all_possible_chars = list(string.ascii_lowercase) + ['-', '.', \"'\"]\n",
    "char_set = all_possible_chars[:vocab_size]\n",
    "char_to_idx = {c: i for i, c in enumerate(char_set)}\n",
    "char_embedding_weights = model.char_embeddings.weight.data.cpu().numpy()\n",
    "\n",
    "def get_trigram_response(trigram, char_to_idx, char_embedding_weights, filter_weights):\n",
    "    idxs = [char_to_idx.get(c, 0) for c in trigram]\n",
    "    emb = char_embedding_weights[idxs].T\n",
    "    return np.sum(emb * filter_weights)\n",
    "\n",
    "all_trigrams = list(product(char_set, repeat=3))\n",
    "for idx in top_indices:\n",
    "    filter_weights = filters[idx]\n",
    "    responses = []\n",
    "    for trigram in all_trigrams:\n",
    "        resp = get_trigram_response(trigram, char_to_idx, char_embedding_weights, filter_weights)\n",
    "        responses.append((trigram, resp))\n",
    "    responses.sort(key=lambda x: -abs(x[1]))\n",
    "    print(f\"\\nTop 5 trigrams for filter {idx}:\")\n",
    "    for trigram, resp in responses[:5]:\n",
    "        print(''.join(trigram), f\"Response: {resp:.2f}\")"
   ],
   "metadata": {
    "collapsed": false,
    "ExecuteTime": {
     "end_time": "2025-05-08T14:54:37.027192500Z",
     "start_time": "2025-05-08T14:54:36.092556Z"
    }
   }
  },
  {
   "cell_type": "code",
   "execution_count": null,
   "outputs": [],
   "source": [],
   "metadata": {
    "collapsed": false
   }
  }
 ],
 "metadata": {
  "kernelspec": {
   "display_name": "Python 3",
   "language": "python",
   "name": "python3"
  },
  "language_info": {
   "codemirror_mode": {
    "name": "ipython",
    "version": 3
   },
   "file_extension": ".py",
   "mimetype": "text/x-python",
   "name": "python",
   "nbconvert_exporter": "python",
   "pygments_lexer": "ipython3",
   "version": "3.8.0"
  }
 },
 "nbformat": 4,
 "nbformat_minor": 4
}
